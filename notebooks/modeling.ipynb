{
 "cells": [
  {
   "cell_type": "markdown",
   "id": "38828b94",
   "metadata": {},
   "source": [
    "# modeling.ipynb - Arrest Prediction \n",
    "\n",
    "**Goal:** Predict whether an incident results in an arrest (arrest 0/1).\n",
    "\n",
    "**Input:** data/processed/model_input.csv (from feature_engineering.ipynb).\n",
    "Output: Trained model + evaluation report + saved artifacts in models/."
   ]
  },
  {
   "cell_type": "code",
   "execution_count": 1,
   "id": "aaf71996",
   "metadata": {},
   "outputs": [
    {
     "data": {
      "text/plain": [
       "PosixPath('/Volumes/easystore/Projects/chicago-crime-pipeline/data/processed')"
      ]
     },
     "execution_count": 1,
     "metadata": {},
     "output_type": "execute_result"
    }
   ],
   "source": [
    "# Core\n",
    "import os, json, joblib, numpy as np, pandas as pd \n",
    "from pathlib import Path \n",
    "\n",
    "# Modeling \n",
    "from sklearn.model_selection import train_test_split, StratifiedKFold, cross_validate\n",
    "from sklearn.compose import ColumnTransformer\n",
    "from sklearn.preprocessing import OneHotEncoder\n",
    "from sklearn.pipeline import Pipeline\n",
    "from sklearn.linear_model import LogisticRegression\n",
    "from sklearn.ensemble import RandomForestClassifier\n",
    "from sklearn.metrics import (\n",
    "    classification_report, confusion_matrix, roc_auc_score,\n",
    "    roc_curve, precision_recall_curve, average_precision_score\n",
    ")\n",
    "\n",
    "# Plots\n",
    "import matplotlib.pyplot as plt\n",
    "\n",
    "# Paths \n",
    "REPO = Path.cwd()\n",
    "while REPO.name != \"chicago-crime-pipeline\" and REPO.parent != REPO:\n",
    "    REPO = REPO.parent\n",
    "DATA = REPO / \"data\" / \"processed\"\n",
    "MODELS_DIR = REPO / \"models\"\n",
    "MODELS_DIR.mkdir(parents=True, exist_ok=True)\n",
    "\n",
    "DATA"
   ]
  },
  {
   "cell_type": "code",
   "execution_count": 2,
   "id": "0873ebde",
   "metadata": {},
   "outputs": [
    {
     "name": "stdout",
     "output_type": "stream",
     "text": [
      "(5694, 10)\n",
      "arrest\n",
      "0    4809\n",
      "1     885\n",
      "Name: count, dtype: int64\n",
      "id                      0.0\n",
      "date                    0.0\n",
      "primary_type            0.0\n",
      "location_description    0.0\n",
      "arrest                  0.0\n",
      "location_grouped        0.0\n",
      "year                    0.0\n",
      "month                   0.0\n",
      "dow                     0.0\n",
      "hour                    0.0\n",
      "dtype: float64\n"
     ]
    }
   ],
   "source": [
    "# Load the data \n",
    "df = pd.read_csv(DATA / \"arrest_features.csv\")\n",
    "print(df.shape)\n",
    "df.head()\n",
    "\n",
    "# Sanity checks \n",
    "assert \"arrest\" in df.columns, \"Target column 'arrest' missing\"\n",
    "print(df['arrest'].value_counts(dropna=False))\n",
    "print(df.isna().mean().sort_values(ascending=False).head(10))"
   ]
  },
  {
   "cell_type": "code",
   "execution_count": 5,
   "id": "0cfadf26",
   "metadata": {},
   "outputs": [
    {
     "name": "stdout",
     "output_type": "stream",
     "text": [
      "Categorical: ['date', 'primary_type', 'location_description', 'location_grouped']\n",
      "Numeric: ['id', 'year', 'month', 'dow', 'hour']\n"
     ]
    },
    {
     "data": {
      "text/plain": [
       "((4555, 9), (1139, 9))"
      ]
     },
     "execution_count": 5,
     "metadata": {},
     "output_type": "execute_result"
    }
   ],
   "source": [
    "# Split train/test\n",
    "\n",
    "TARGET = 'arrest'\n",
    "\n",
    "y = df[TARGET].astype(int).values\n",
    "X = df.drop(columns=[TARGET]).copy()\n",
    "\n",
    "# Identify feature types\n",
    "cat_cols = X.select_dtypes(include=['object', 'category']).columns.tolist()\n",
    "num_cols = X.select_dtypes(include=['number', 'bool']).columns.to_list()\n",
    "\n",
    "print(\"Categorical:\", cat_cols)\n",
    "print(\"Numeric:\", num_cols)\n",
    "\n",
    "X_train, X_test, y_train, y_test = train_test_split(\n",
    "    X, y, test_size=0.2, random_state=42, stratify=y\n",
    ")\n",
    "\n",
    "X_train.shape, X_test.shape"
   ]
  },
  {
   "cell_type": "code",
   "execution_count": null,
   "id": "5ebd1935",
   "metadata": {},
   "outputs": [],
   "source": [
    "# Preprocessor (OneHot for categoricals, passthrough numeric)\n",
    "pre = ColumnTransformer(\n",
    "    transformers = [\n",
    "(\"cat\", OneHotEncoder(handle_unknown=\"ignore\", sparse_output=False), cat_cols),\n",
    "(\"num\", \"passthrough\", num_cols),\n",
    "    ],\n",
    "    remainder=\"drop\",\n",
    "    verbose_feature_names_out=False,\n",
    ")"
   ]
  },
  {
   "cell_type": "markdown",
   "id": "6ca0d785",
   "metadata": {},
   "source": [
    "## Baseline Model: Logistic Regression "
   ]
  },
  {
   "cell_type": "code",
   "execution_count": 9,
   "id": "d096af44",
   "metadata": {},
   "outputs": [
    {
     "name": "stdout",
     "output_type": "stream",
     "text": [
      "ROC-AUC: 0.7486462994937569\n",
      "Average Precision (PR-AUC): 0.5002375757052318\n",
      "              precision    recall  f1-score   support\n",
      "\n",
      "           0      0.920     0.704     0.797       962\n",
      "           1      0.293     0.667     0.407       177\n",
      "\n",
      "    accuracy                          0.698      1139\n",
      "   macro avg      0.606     0.685     0.602      1139\n",
      "weighted avg      0.822     0.698     0.737      1139\n",
      "\n"
     ]
    }
   ],
   "source": [
    "logit = Pipeline(steps=[\n",
    "    (\"pre\", pre),\n",
    "    (\"clf\", LogisticRegression(\n",
    "        max_iter=1000, class_weight=\"balanced\", n_jobs=None, solver=\"lbfgs\"\n",
    "    ))\n",
    "])\n",
    "\n",
    "logit.fit(X_train, y_train)\n",
    "\n",
    "y_pred = logit.predict(X_test)\n",
    "y_proba = logit.predict_proba(X_test)[:, 1]\n",
    "\n",
    "print(\"ROC-AUC:\", roc_auc_score(y_test, y_proba))\n",
    "print(\"Average Precision (PR-AUC):\", average_precision_score(y_test, y_proba))\n",
    "print(classification_report(y_test, y_pred, digits=3))"
   ]
  },
  {
   "cell_type": "code",
   "execution_count": null,
   "id": "96da892e",
   "metadata": {},
   "outputs": [],
   "source": []
  }
 ],
 "metadata": {
  "kernelspec": {
   "display_name": ".venv (3.12.5)",
   "language": "python",
   "name": "python3"
  },
  "language_info": {
   "codemirror_mode": {
    "name": "ipython",
    "version": 3
   },
   "file_extension": ".py",
   "mimetype": "text/x-python",
   "name": "python",
   "nbconvert_exporter": "python",
   "pygments_lexer": "ipython3",
   "version": "3.12.5"
  }
 },
 "nbformat": 4,
 "nbformat_minor": 5
}
