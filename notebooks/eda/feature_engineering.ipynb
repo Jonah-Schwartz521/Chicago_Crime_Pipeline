{
 "cells": [
  {
   "cell_type": "code",
   "execution_count": 2,
   "id": "04d5a2d4",
   "metadata": {},
   "outputs": [],
   "source": [
    "from dotenv import load_dotenv\n",
    "import os, pandas as pd, sqlalchemy as sa \n",
    "\n",
    "load_dotenv()\n",
    "\n",
    "engine = sa.create_engine(\n",
    "    f\"postgresql+psycopg://{os.getenv('PGUSER')}:{os.getenv('PGPASSWORD')}@\"\n",
    "    f\"{os.getenv('PGHOST')}:{os.getenv('PGPORT')}/{os.getenv('PGDATABASE')}\"\n",
    ")\n",
    "\n",
    "def q(sql):\n",
    "    return pd.read_sql(sql, engine)"
   ]
  },
  {
   "cell_type": "code",
   "execution_count": 3,
   "id": "176021b8",
   "metadata": {},
   "outputs": [
    {
     "data": {
      "text/html": [
       "<div>\n",
       "<style scoped>\n",
       "    .dataframe tbody tr th:only-of-type {\n",
       "        vertical-align: middle;\n",
       "    }\n",
       "\n",
       "    .dataframe tbody tr th {\n",
       "        vertical-align: top;\n",
       "    }\n",
       "\n",
       "    .dataframe thead th {\n",
       "        text-align: right;\n",
       "    }\n",
       "</style>\n",
       "<table border=\"1\" class=\"dataframe\">\n",
       "  <thead>\n",
       "    <tr style=\"text-align: right;\">\n",
       "      <th></th>\n",
       "      <th>id</th>\n",
       "      <th>date</th>\n",
       "      <th>primary_type</th>\n",
       "      <th>location_description</th>\n",
       "      <th>arrest</th>\n",
       "    </tr>\n",
       "  </thead>\n",
       "  <tbody>\n",
       "    <tr>\n",
       "      <th>0</th>\n",
       "      <td>13948166</td>\n",
       "      <td>2025-08-27</td>\n",
       "      <td>CRIMINAL SEXUAL ASSAULT</td>\n",
       "      <td>HOSPITAL BUILDING / GROUNDS</td>\n",
       "      <td>False</td>\n",
       "    </tr>\n",
       "    <tr>\n",
       "      <th>1</th>\n",
       "      <td>13950808</td>\n",
       "      <td>2025-08-27</td>\n",
       "      <td>BATTERY</td>\n",
       "      <td>SCHOOL - PRIVATE GROUNDS</td>\n",
       "      <td>False</td>\n",
       "    </tr>\n",
       "    <tr>\n",
       "      <th>2</th>\n",
       "      <td>13948325</td>\n",
       "      <td>2025-08-27</td>\n",
       "      <td>BATTERY</td>\n",
       "      <td>GROCERY FOOD STORE</td>\n",
       "      <td>True</td>\n",
       "    </tr>\n",
       "    <tr>\n",
       "      <th>3</th>\n",
       "      <td>13947866</td>\n",
       "      <td>2025-08-27</td>\n",
       "      <td>THEFT</td>\n",
       "      <td>PARK PROPERTY</td>\n",
       "      <td>False</td>\n",
       "    </tr>\n",
       "    <tr>\n",
       "      <th>4</th>\n",
       "      <td>13950885</td>\n",
       "      <td>2025-08-27</td>\n",
       "      <td>SEX OFFENSE</td>\n",
       "      <td>APARTMENT</td>\n",
       "      <td>False</td>\n",
       "    </tr>\n",
       "  </tbody>\n",
       "</table>\n",
       "</div>"
      ],
      "text/plain": [
       "         id       date             primary_type         location_description  \\\n",
       "0  13948166 2025-08-27  CRIMINAL SEXUAL ASSAULT  HOSPITAL BUILDING / GROUNDS   \n",
       "1  13950808 2025-08-27                  BATTERY     SCHOOL - PRIVATE GROUNDS   \n",
       "2  13948325 2025-08-27                  BATTERY           GROCERY FOOD STORE   \n",
       "3  13947866 2025-08-27                    THEFT                PARK PROPERTY   \n",
       "4  13950885 2025-08-27              SEX OFFENSE                    APARTMENT   \n",
       "\n",
       "   arrest  \n",
       "0   False  \n",
       "1   False  \n",
       "2    True  \n",
       "3   False  \n",
       "4   False  "
      ]
     },
     "execution_count": 3,
     "metadata": {},
     "output_type": "execute_result"
    }
   ],
   "source": [
    "# Pull the base dataset \n",
    "df = q(\"\"\"\n",
    "SELECT\n",
    "    id,\n",
    "    date,\n",
    "    primary_type,\n",
    "    location_description,\n",
    "    arrest\n",
    "FROM\n",
    "       public_stg.stg_chicago_crimes\n",
    "WHERE date >= '2025-01-01'\n",
    "\"\"\")\n",
    "df.head()"
   ]
  },
  {
   "cell_type": "code",
   "execution_count": 4,
   "id": "0a6fa9e9",
   "metadata": {},
   "outputs": [],
   "source": [
    "# Clean categorical featues \n",
    "df['location_description'] = df['location_description'].fillna('UNKNOWN')\n",
    "top_locs = df['location_description'].value_counts().index[:15]\n",
    "df['location_grouped'] = df['location_description'].where(df['location_description'].isin(top_locs), 'OTHER')"
   ]
  },
  {
   "cell_type": "code",
   "execution_count": 5,
   "id": "155c8d1f",
   "metadata": {},
   "outputs": [],
   "source": [
    "# Extract temporal features \n",
    "df['date'] = pd.to_datetime(df['date'])\n",
    "df['year'] = df['date'].dt.year\n",
    "df['month'] = df['date'].dt.month\n",
    "df['dow'] = df['date'].dt.dayofweek # 0=Mon, 6=Sun\n",
    "df['hour'] = df['date'].dt.hour"
   ]
  },
  {
   "cell_type": "code",
   "execution_count": 6,
   "id": "c69e6aae",
   "metadata": {},
   "outputs": [],
   "source": [
    "# Encode target variable \n",
    "df['arrest'] = df['arrest'].astype(int) # True/False -> 1/0"
   ]
  },
  {
   "cell_type": "code",
   "execution_count": 10,
   "id": "83300079",
   "metadata": {},
   "outputs": [
    {
     "name": "stdout",
     "output_type": "stream",
     "text": [
      "Saved to /Volumes/easystore/Projects/chicago-crime-pipeline/notebooks/eda/Data/processed/arrest_features.csv, shape=(5694, 10)\n"
     ]
    }
   ],
   "source": [
    "# Save processed dataset \n",
    "from pathlib import Path \n",
    "\n",
    "# Create data/processed relative to working directory \n",
    "DATA_DIR = Path.cwd() / \"Data\" / \"processed\"\n",
    "DATA_DIR.mkdir(parents=True, exist_ok=True)\n",
    "\n",
    "out_path = DATA_DIR / \"arrest_features.csv\"\n",
    "df.to_csv(out_path, index=False)\n",
    "print(f\"Saved to {out_path}, shape={df.shape}\")"
   ]
  },
  {
   "cell_type": "code",
   "execution_count": null,
   "id": "2d9f01fc",
   "metadata": {},
   "outputs": [],
   "source": []
  }
 ],
 "metadata": {
  "kernelspec": {
   "display_name": ".venv (3.12.5)",
   "language": "python",
   "name": "python3"
  },
  "language_info": {
   "codemirror_mode": {
    "name": "ipython",
    "version": 3
   },
   "file_extension": ".py",
   "mimetype": "text/x-python",
   "name": "python",
   "nbconvert_exporter": "python",
   "pygments_lexer": "ipython3",
   "version": "3.12.5"
  }
 },
 "nbformat": 4,
 "nbformat_minor": 5
}
